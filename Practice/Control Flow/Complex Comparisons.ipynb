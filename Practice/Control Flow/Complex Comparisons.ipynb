{
 "cells": [
  {
   "cell_type": "code",
   "execution_count": 5,
   "metadata": {},
   "outputs": [
    {
     "name": "stdout",
     "output_type": "stream",
     "text": [
      "flow regime is transitional\n"
     ]
    }
   ],
   "source": [
    "reynolds_number = 5000 \n",
    "\n",
    "if 2000 < reynolds_number < 10000:\n",
    "    print('flow regime is transitional')"
   ]
  },
  {
   "cell_type": "code",
   "execution_count": 7,
   "metadata": {},
   "outputs": [
    {
     "name": "stdout",
     "output_type": "stream",
     "text": [
      "flow is transitional\n"
     ]
    }
   ],
   "source": [
    "if reynolds_number > 2000 and reynolds_number < 10000:\n",
    "    print('flow is transitional')"
   ]
  },
  {
   "cell_type": "code",
   "execution_count": 8,
   "metadata": {},
   "outputs": [],
   "source": [
    "if reynolds_number <= 2000 or reynolds_number >= 10000:\n",
    "    print('flow is not transitional')"
   ]
  }
 ],
 "metadata": {
  "kernelspec": {
   "display_name": "base",
   "language": "python",
   "name": "python3"
  },
  "language_info": {
   "codemirror_mode": {
    "name": "ipython",
    "version": 3
   },
   "file_extension": ".py",
   "mimetype": "text/x-python",
   "name": "python",
   "nbconvert_exporter": "python",
   "pygments_lexer": "ipython3",
   "version": "3.11.5"
  }
 },
 "nbformat": 4,
 "nbformat_minor": 2
}

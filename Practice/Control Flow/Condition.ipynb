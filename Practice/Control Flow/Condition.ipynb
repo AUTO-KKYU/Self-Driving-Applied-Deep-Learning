{
 "cells": [
  {
   "cell_type": "code",
   "execution_count": 14,
   "metadata": {},
   "outputs": [],
   "source": [
    "grocery_items = {'banans' : 2.99, 'apples' : 1.29, 'papayas' : 2.39}"
   ]
  },
  {
   "cell_type": "code",
   "execution_count": 10,
   "metadata": {},
   "outputs": [
    {
     "name": "stdout",
     "output_type": "stream",
     "text": [
      "could not find the brussel sprouts\n",
      "just added the item, here is the updated grocery list {'banans': 2.99, 'apples': 1.29, 'papayas': 2.39, 'brussel sprouts': 2.99}\n"
     ]
    }
   ],
   "source": [
    "item = 'brussel sprouts'\n",
    "if item in grocery_items:\n",
    "    print('found the', item)\n",
    "else:\n",
    "    print('could not find the', item)\n",
    "    grocery_items.update({item: 2.99})\n",
    "    print('just added the item, here is the updated grocery list', grocery_items)"
   ]
  },
  {
   "cell_type": "code",
   "execution_count": 15,
   "metadata": {},
   "outputs": [
    {
     "name": "stdout",
     "output_type": "stream",
     "text": [
      "too expensive for inventory!\n"
     ]
    }
   ],
   "source": [
    "item, price = 'rutabagas', 3.99\n",
    "if item in grocery_items:\n",
    "    print('found the', item)\n",
    "elif price > 2.99:\n",
    "    print('too expensive for inventory!')\n",
    "else:\n",
    "    print('could not find the', item)\n",
    "    grocery_items.update({item: 2.99})\n",
    "    print('just added the item, here is the updated grocery list', grocery_items)"
   ]
  },
  {
   "cell_type": "code",
   "execution_count": 17,
   "metadata": {},
   "outputs": [
    {
     "name": "stdout",
     "output_type": "stream",
     "text": [
      "time to go to sleep\n"
     ]
    }
   ],
   "source": [
    "daytime = 'nightime'\n",
    "\n",
    "if daytime == 'dawn':\n",
    "    print('still asleep')\n",
    "elif daytime == 'morning':\n",
    "    print('time to go to work')\n",
    "elif daytime == 'noon':\n",
    "    print('time to take a launch break')\n",
    "elif daytime == 'afternoon':\n",
    "    print('time to go home')\n",
    "else:\n",
    "    print('time to go to sleep')"
   ]
  }
 ],
 "metadata": {
  "kernelspec": {
   "display_name": "base",
   "language": "python",
   "name": "python3"
  },
  "language_info": {
   "codemirror_mode": {
    "name": "ipython",
    "version": 3
   },
   "file_extension": ".py",
   "mimetype": "text/x-python",
   "name": "python",
   "nbconvert_exporter": "python",
   "pygments_lexer": "ipython3",
   "version": "3.11.5"
  }
 },
 "nbformat": 4,
 "nbformat_minor": 2
}

{
 "cells": [
  {
   "cell_type": "code",
   "execution_count": null,
   "metadata": {},
   "outputs": [],
   "source": [
    "def rectangle_area(length, width):\n",
    "    \"\"\" \n",
    "    \n",
    "    INPUT:\n",
    "    \n",
    "    This function in two parameters length and width\n",
    "    \n",
    "    OUTPUT:\n",
    "\n",
    "    This function calculates the area based on the length and width provided by the user, where area = length * width\n",
    "    \n",
    "    \"\"\"\n",
    "    return length * width "
   ]
  },
  {
   "cell_type": "code",
   "execution_count": null,
   "metadata": {},
   "outputs": [],
   "source": []
  }
 ],
 "metadata": {
  "language_info": {
   "name": "python"
  }
 },
 "nbformat": 4,
 "nbformat_minor": 2
}

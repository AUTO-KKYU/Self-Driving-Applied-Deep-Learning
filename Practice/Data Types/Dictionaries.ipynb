{
 "cells": [
  {
   "cell_type": "code",
   "execution_count": 1,
   "metadata": {},
   "outputs": [
    {
     "name": "stdout",
     "output_type": "stream",
     "text": [
      "1.29\n"
     ]
    }
   ],
   "source": [
    "inventory = {'bananas': 1.29, 'apples' : 2.99, 'papayas' : 1.39 }\n",
    "print(inventory['bananas'])"
   ]
  },
  {
   "cell_type": "code",
   "execution_count": 2,
   "metadata": {},
   "outputs": [
    {
     "name": "stdout",
     "output_type": "stream",
     "text": [
      "{'bananas': 2.99, 'apples': 2.99, 'papayas': 1.39}\n"
     ]
    }
   ],
   "source": [
    "inventory['bananas'] = 2.99\n",
    "print(inventory)"
   ]
  },
  {
   "cell_type": "code",
   "execution_count": 4,
   "metadata": {},
   "outputs": [
    {
     "name": "stdout",
     "output_type": "stream",
     "text": [
      "dict_keys(['bananas', 'apples', 'papayas'])\n",
      "dict_values([2.99, 2.99, 1.39])\n"
     ]
    }
   ],
   "source": [
    "print(inventory.keys())\n",
    "print(inventory.values())"
   ]
  },
  {
   "cell_type": "code",
   "execution_count": 5,
   "metadata": {},
   "outputs": [
    {
     "name": "stdout",
     "output_type": "stream",
     "text": [
      "2.99\n"
     ]
    }
   ],
   "source": [
    "bananas_price = inventory.get('bananas')\n",
    "print(bananas_price)"
   ]
  },
  {
   "cell_type": "code",
   "execution_count": 6,
   "metadata": {},
   "outputs": [
    {
     "name": "stdout",
     "output_type": "stream",
     "text": [
      "None\n"
     ]
    }
   ],
   "source": [
    "strawberries_price = inventory.get('strawberries_price')\n",
    "print(strawberries_price)"
   ]
  },
  {
   "cell_type": "code",
   "execution_count": 8,
   "metadata": {},
   "outputs": [
    {
     "name": "stdout",
     "output_type": "stream",
     "text": [
      "True\n"
     ]
    }
   ],
   "source": [
    "print('papayas' in inventory)"
   ]
  },
  {
   "cell_type": "code",
   "execution_count": 11,
   "metadata": {},
   "outputs": [
    {
     "name": "stdout",
     "output_type": "stream",
     "text": [
      "{'price': 1.29, 'country of orgin': 'United Kingdom'}\n",
      "1.29\n",
      "United Kingdom\n"
     ]
    }
   ],
   "source": [
    "grocery_items = {'bananas': {'price' : 2.99 , 'country of orgin' : 'Guatamela'},\n",
    "              'apples' : {'price' : 1.29 , 'country of orgin' : 'United Kingdom'},\n",
    "              'papayas' : {'price' : 2.39 , 'country of orgin' : 'Costa Rica'}, }\n",
    "print(grocery_items['apples'])\n",
    "print(grocery_items['apples']['price'])\n",
    "print(grocery_items['apples']['country of orgin'])"
   ]
  },
  {
   "cell_type": "code",
   "execution_count": null,
   "metadata": {},
   "outputs": [],
   "source": []
  }
 ],
 "metadata": {
  "kernelspec": {
   "display_name": "base",
   "language": "python",
   "name": "python3"
  },
  "language_info": {
   "codemirror_mode": {
    "name": "ipython",
    "version": 3
   },
   "file_extension": ".py",
   "mimetype": "text/x-python",
   "name": "python",
   "nbconvert_exporter": "python",
   "pygments_lexer": "ipython3",
   "version": "3.11.5"
  }
 },
 "nbformat": 4,
 "nbformat_minor": 2
}

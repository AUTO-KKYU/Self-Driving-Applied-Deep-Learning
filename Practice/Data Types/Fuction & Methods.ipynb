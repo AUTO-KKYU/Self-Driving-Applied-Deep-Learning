{
 "cells": [
  {
   "cell_type": "code",
   "execution_count": 1,
   "metadata": {},
   "outputs": [
    {
     "data": {
      "text/plain": [
       "4"
      ]
     },
     "execution_count": 1,
     "metadata": {},
     "output_type": "execute_result"
    }
   ],
   "source": [
    "numbers = [4, 3, 7, 4]\n",
    "len(numbers)"
   ]
  },
  {
   "cell_type": "code",
   "execution_count": 3,
   "metadata": {},
   "outputs": [
    {
     "name": "stdout",
     "output_type": "stream",
     "text": [
      "7\n",
      "3\n"
     ]
    }
   ],
   "source": [
    "print(max(numbers))\n",
    "print(min(numbers))"
   ]
  },
  {
   "cell_type": "code",
   "execution_count": 10,
   "metadata": {},
   "outputs": [
    {
     "name": "stdout",
     "output_type": "stream",
     "text": [
      "Zack\n",
      "Gio\n",
      "['Thomas', 'Gio', 'Zack']\n",
      "['Gio', 'Thomas', 'Zack']\n"
     ]
    }
   ],
   "source": [
    "names = ['Thomas', 'Gio', 'Zack']\n",
    "print(max(names))\n",
    "print(min(names))\n",
    "print(names)\n",
    "print(sorted(names))"
   ]
  },
  {
   "cell_type": "code",
   "execution_count": 14,
   "metadata": {},
   "outputs": [
    {
     "name": "stdout",
     "output_type": "stream",
     "text": [
      "January-Feburary-March\n",
      "January Feburary March\n"
     ]
    }
   ],
   "source": [
    "print('-'.join(['January', 'Feburary', 'March']))\n",
    "print(' '.join(['January', 'Feburary', 'March']))"
   ]
  },
  {
   "cell_type": "code",
   "execution_count": 15,
   "metadata": {},
   "outputs": [
    {
     "name": "stdout",
     "output_type": "stream",
     "text": [
      "This person is tall, slim, and blonde\n"
     ]
    }
   ],
   "source": [
    "print('This person is {}, {}, and {}'.format('tall', 'slim', 'blonde'))"
   ]
  },
  {
   "cell_type": "code",
   "execution_count": 16,
   "metadata": {},
   "outputs": [
    {
     "name": "stdout",
     "output_type": "stream",
     "text": [
      "['January', 'Feburary', 'March', 'April']\n"
     ]
    }
   ],
   "source": [
    "months = ['January', 'Feburary', 'March']\n",
    "months.append('April')\n",
    "print(months)"
   ]
  }
 ],
 "metadata": {
  "kernelspec": {
   "display_name": "base",
   "language": "python",
   "name": "python3"
  },
  "language_info": {
   "codemirror_mode": {
    "name": "ipython",
    "version": 3
   },
   "file_extension": ".py",
   "mimetype": "text/x-python",
   "name": "python",
   "nbconvert_exporter": "python",
   "pygments_lexer": "ipython3",
   "version": "3.11.5"
  }
 },
 "nbformat": 4,
 "nbformat_minor": 2
}

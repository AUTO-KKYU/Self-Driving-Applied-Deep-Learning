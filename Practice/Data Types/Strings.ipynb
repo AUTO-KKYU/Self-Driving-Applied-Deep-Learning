{
 "cells": [
  {
   "cell_type": "code",
   "execution_count": 1,
   "metadata": {},
   "outputs": [
    {
     "name": "stdout",
     "output_type": "stream",
     "text": [
      "Ameer\n",
      "<class 'str'>\n"
     ]
    }
   ],
   "source": [
    "name = 'Ameer'\n",
    "print(name)\n",
    "print(type(name))"
   ]
  },
  {
   "cell_type": "code",
   "execution_count": 2,
   "metadata": {},
   "outputs": [
    {
     "name": "stdout",
     "output_type": "stream",
     "text": [
      "Ammer said \"Hello John\", to which john repiled, \"Hello Ameer\" \n"
     ]
    }
   ],
   "source": [
    "dialogue = 'Ammer said \"Hello John\", to which john repiled, \"Hello Ameer\" '\n",
    "print(dialogue)"
   ]
  },
  {
   "cell_type": "code",
   "execution_count": 3,
   "metadata": {},
   "outputs": [
    {
     "name": "stdout",
     "output_type": "stream",
     "text": [
      "Ammer said \"Hello John\", to which john repiled, \"you're the best\" \n"
     ]
    }
   ],
   "source": [
    "dialogue = 'Ammer said \"Hello John\", to which john repiled, \"you\\'re the best\" '\n",
    "print(dialogue)"
   ]
  },
  {
   "cell_type": "code",
   "execution_count": 8,
   "metadata": {},
   "outputs": [
    {
     "name": "stdout",
     "output_type": "stream",
     "text": [
      "I'am 25 years old\n",
      "I'am 25 years oldI'am 25 years oldI'am 25 years oldI'am 25 years oldI'am 25 years oldI'am 25 years oldI'am 25 years oldI'am 25 years oldI'am 25 years oldI'am 25 years old\n",
      "170\n"
     ]
    }
   ],
   "source": [
    "segment_one = 'I\\'am 25'\n",
    "segment_two = 'years old'\n",
    "full_sentence = segment_one + \" \" + segment_two\n",
    "print(full_sentence)\n",
    "long_sentence = full_sentence * 10\n",
    "print(long_sentence)\n",
    "print(len(long_sentence))"
   ]
  },
  {
   "cell_type": "code",
   "execution_count": null,
   "metadata": {},
   "outputs": [],
   "source": []
  }
 ],
 "metadata": {
  "kernelspec": {
   "display_name": "base",
   "language": "python",
   "name": "python3"
  },
  "language_info": {
   "codemirror_mode": {
    "name": "ipython",
    "version": 3
   },
   "file_extension": ".py",
   "mimetype": "text/x-python",
   "name": "python",
   "nbconvert_exporter": "python",
   "pygments_lexer": "ipython3",
   "version": "3.11.5"
  }
 },
 "nbformat": 4,
 "nbformat_minor": 2
}

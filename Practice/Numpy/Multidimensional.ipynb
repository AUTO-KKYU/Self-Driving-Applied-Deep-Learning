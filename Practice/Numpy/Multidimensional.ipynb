{
 "cells": [
  {
   "cell_type": "code",
   "execution_count": 20,
   "metadata": {},
   "outputs": [
    {
     "name": "stdout",
     "output_type": "stream",
     "text": [
      "[[0 1 2]\n",
      " [3 4 5]\n",
      " [6 7 8]]\n",
      "(3, 3)\n"
     ]
    }
   ],
   "source": [
    "import numpy as np \n",
    "\n",
    "x = np.arange(0, 3)\n",
    "y = np.arange(3, 6)\n",
    "z = np.arange(6, 9)\n",
    "\n",
    "multi_array = np.array([x, y, z], dtype= np.uint8)\n",
    "print(multi_array)\n",
    "print(multi_array.shape)\n"
   ]
  },
  {
   "cell_type": "code",
   "execution_count": 21,
   "metadata": {},
   "outputs": [
    {
     "data": {
      "text/plain": [
       "dtype('uint8')"
      ]
     },
     "execution_count": 21,
     "metadata": {},
     "output_type": "execute_result"
    }
   ],
   "source": [
    "multi_array[1, 2]\n",
    "multi_array.dtype"
   ]
  },
  {
   "cell_type": "code",
   "execution_count": 17,
   "metadata": {},
   "outputs": [
    {
     "name": "stdout",
     "output_type": "stream",
     "text": [
      "[1.   1.09 1.18 1.27 1.36 1.45 1.54 1.63 1.72 1.81 1.9  1.99 2.08 2.17\n",
      " 2.26 2.35 2.44 2.53 2.62 2.71 2.8  2.89 2.98 3.07 3.16 3.25 3.34 3.43\n",
      " 3.52 3.61 3.7  3.79 3.88 3.97 4.06 4.15 4.24 4.33 4.42 4.51 4.6  4.69\n",
      " 4.78 4.87 4.96 5.05 5.14 5.23 5.32 5.41 5.5  5.59 5.68 5.77 5.86 5.95\n",
      " 6.04 6.13 6.22 6.31 6.4  6.49 6.58 6.67 6.76 6.85 6.94 7.03 7.12 7.21\n",
      " 7.3  7.39 7.48 7.57 7.66 7.75 7.84 7.93 8.02 8.11 8.2  8.29 8.38 8.47\n",
      " 8.56 8.65 8.74 8.83 8.92 9.01 9.1  9.19 9.28 9.37 9.46 9.55 9.64 9.73\n",
      " 9.82 9.91]\n"
     ]
    }
   ],
   "source": [
    "w = np.linspace(1, 10, 100, False)\n",
    "print(w)"
   ]
  },
  {
   "cell_type": "code",
   "execution_count": 18,
   "metadata": {},
   "outputs": [
    {
     "data": {
      "text/plain": [
       "array([ 1,  4,  7, 10, 13, 16, 19, 22, 25, 28])"
      ]
     },
     "execution_count": 18,
     "metadata": {},
     "output_type": "execute_result"
    }
   ],
   "source": [
    "b = np.arange(1, 30, 3)\n",
    "b"
   ]
  },
  {
   "cell_type": "code",
   "execution_count": 19,
   "metadata": {},
   "outputs": [
    {
     "data": {
      "text/plain": [
       "array([ 1. , 15.5, 30. ])"
      ]
     },
     "execution_count": 19,
     "metadata": {},
     "output_type": "execute_result"
    }
   ],
   "source": [
    "c = np.linspace(1, 30, 3)\n",
    "c"
   ]
  }
 ],
 "metadata": {
  "kernelspec": {
   "display_name": "base",
   "language": "python",
   "name": "python3"
  },
  "language_info": {
   "codemirror_mode": {
    "name": "ipython",
    "version": 3
   },
   "file_extension": ".py",
   "mimetype": "text/x-python",
   "name": "python",
   "nbconvert_exporter": "python",
   "pygments_lexer": "ipython3",
   "version": "3.11.5"
  }
 },
 "nbformat": 4,
 "nbformat_minor": 2
}
